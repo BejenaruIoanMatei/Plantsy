{
 "cells": [
  {
   "cell_type": "code",
   "execution_count": 20,
   "metadata": {},
   "outputs": [],
   "source": [
    "import os"
   ]
  },
  {
   "cell_type": "code",
   "execution_count": 21,
   "metadata": {},
   "outputs": [],
   "source": [
    "path_to_dataset = 'train'\n",
    "\n",
    "if not os.path.exists(path_to_dataset):\n",
    "    print(f'{path_to_dataset} does not exist')\n",
    "\n",
    "if not os.path.isdir(path_to_dataset):\n",
    "    print(f'{path_to_dataset} is not a dir')"
   ]
  },
  {
   "cell_type": "code",
   "execution_count": 22,
   "metadata": {},
   "outputs": [
    {
     "name": "stdout",
     "output_type": "stream",
     "text": [
      "['lavender', 'daisy', 'rose', 'tulip', 'poppy', 'snowdrop', 'dandelion', 'lilly', 'sunflower']\n",
      " Number of classes: 9\n"
     ]
    }
   ],
   "source": [
    "sub_dirs = [d for d in os.listdir(path_to_dataset) if os.path.isdir(os.path.join(path_to_dataset,d))]\n",
    "print(f'{sub_dirs}\\n Number of classes: {len(sub_dirs)}')"
   ]
  },
  {
   "cell_type": "code",
   "execution_count": 25,
   "metadata": {},
   "outputs": [
    {
     "name": "stdout",
     "output_type": "stream",
     "text": [
      "lavender contains 299 images\n",
      "daisy contains 501 images\n",
      "rose contains 497 images\n",
      "tulip contains 607 images\n",
      "poppy contains 493 images\n",
      "snowdrop contains 496 images\n",
      "dandelion contains 646 images\n",
      "lilly contains 999 images\n",
      "sunflower contains 495 images\n"
     ]
    }
   ],
   "source": [
    "for subdir in sub_dirs:\n",
    "    subdir_path = os.path.join(path_to_dataset, subdir)\n",
    "    jpg_count = sum(1 for file in os.listdir(subdir_path) if file.lower().endswith(('.jpg', '.jpeg')))\n",
    "    print(f'{subdir} contains {jpg_count} images')"
   ]
  },
  {
   "cell_type": "code",
   "execution_count": 16,
   "metadata": {},
   "outputs": [
    {
     "name": "stdout",
     "output_type": "stream",
     "text": [
      "test contains 924 images\n"
     ]
    }
   ],
   "source": [
    "path_to_test = 'test'\n",
    "\n",
    "jpg_count = sum(1 for file in os.listdir(path_to_test) if file.lower().endswith('.jpg'))\n",
    "print(f'{path_to_test} contains {jpg_count} images')"
   ]
  }
 ],
 "metadata": {
  "kernelspec": {
   "display_name": "venv",
   "language": "python",
   "name": "python3"
  },
  "language_info": {
   "codemirror_mode": {
    "name": "ipython",
    "version": 3
   },
   "file_extension": ".py",
   "mimetype": "text/x-python",
   "name": "python",
   "nbconvert_exporter": "python",
   "pygments_lexer": "ipython3",
   "version": "3.12.6"
  },
  "orig_nbformat": 4
 },
 "nbformat": 4,
 "nbformat_minor": 2
}
