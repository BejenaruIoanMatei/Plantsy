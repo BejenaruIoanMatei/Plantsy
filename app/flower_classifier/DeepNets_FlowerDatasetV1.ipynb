{
  "cells": [
    {
      "cell_type": "markdown",
      "metadata": {
        "id": "HdJTkfA1GgHQ"
      },
      "source": [
        "# Building a dataset using other datasets\n",
        "- Flowers Dataset from Rahma (10.0) [https://www.kaggle.com/datasets/rahmasleam/flowers-dataset]\n",
        "  - Contains:\n",
        "    - Daisy\n",
        "    - Dandelion\n",
        "    - Rose\n",
        "    - Sunflower\n",
        "    - Tulip\n",
        "  - 5 classes in total\n",
        "\n",
        "- National Flowers from Shahidul (7.50) [https://www.kaggle.com/datasets/shahidulugvcse/national-flowers]\n",
        "  - Contains:\n",
        "    - Tulip\n",
        "    - Sunflower\n",
        "    - Rose\n",
        "    - Orchid\n",
        "    - Lotus\n",
        "    - Lilly\n",
        "    - Lavender\n",
        "    - Dandelion\n",
        "    - Daisy\n",
        "  - 9 classes in total\n",
        "\n",
        "- Flowers Dataset from Sparsh (9.41) [https://www.kaggle.com/datasets/imsparsh/flowers-dataset]\n",
        "  - Contains:\n",
        "    - Daisy\n",
        "    - Dandelion\n",
        "    - Rose\n",
        "    - Tulip\n",
        "    - Sunflower\n",
        "  - 5 classes in total\n"
      ]
    },
    {
      "cell_type": "markdown",
      "metadata": {
        "id": "zFY8Fhw1HyMe"
      },
      "source": [
        "### My dataset\n",
        "What to contain:\n",
        "  - 7 classes:\n",
        "    - Rose\n",
        "    - Daisy\n",
        "    - Dandelion\n",
        "    - Sunflower\n",
        "    - Tulip\n",
        "    - Lily\n",
        "    - Orchid\n"
      ]
    },
    {
      "cell_type": "code",
      "execution_count": 1,
      "metadata": {
        "colab": {
          "base_uri": "https://localhost:8080/"
        },
        "id": "VRgokSKdIMex",
        "outputId": "24bfd9d7-f97c-4e4e-9a5f-0fd61b4cb5c7"
      },
      "outputs": [
        {
          "name": "stdout",
          "output_type": "stream",
          "text": [
            "Downloading from https://www.kaggle.com/api/v1/datasets/download/rahmasleam/flowers-dataset?dataset_version_number=1...\n"
          ]
        },
        {
          "name": "stderr",
          "output_type": "stream",
          "text": [
            "100%|██████████| 219M/219M [00:08<00:00, 27.7MB/s]"
          ]
        },
        {
          "name": "stdout",
          "output_type": "stream",
          "text": [
            "Extracting files...\n"
          ]
        },
        {
          "name": "stderr",
          "output_type": "stream",
          "text": [
            "\n"
          ]
        },
        {
          "name": "stdout",
          "output_type": "stream",
          "text": [
            "Path to dataset files: /root/.cache/kagglehub/datasets/rahmasleam/flowers-dataset/versions/1\n"
          ]
        }
      ],
      "source": [
        "import kagglehub\n",
        "\n",
        "# Download latest version\n",
        "path = kagglehub.dataset_download(\"rahmasleam/flowers-dataset\")\n",
        "\n",
        "print(\"Path to dataset files:\", path)"
      ]
    },
    {
      "cell_type": "markdown",
      "metadata": {
        "id": "u-_qqjzTImRF"
      },
      "source": [
        "### Flowers Dataset from Rahma (10.0)"
      ]
    },
    {
      "cell_type": "code",
      "execution_count": 2,
      "metadata": {
        "id": "iW8lQuclIlRy"
      },
      "outputs": [],
      "source": [
        "import os"
      ]
    },
    {
      "cell_type": "code",
      "execution_count": 8,
      "metadata": {
        "id": "x5xQC7VbItBf"
      },
      "outputs": [],
      "source": [
        "path_to_dataset = '/root/.cache/kagglehub/datasets/rahmasleam/flowers-dataset/versions/1'\n",
        "\n",
        "if not os.path.isdir(path_to_dataset):\n",
        "    print('not a dir')"
      ]
    },
    {
      "cell_type": "code",
      "execution_count": 9,
      "metadata": {
        "colab": {
          "base_uri": "https://localhost:8080/"
        },
        "id": "Y8Hw5ijkJEIs",
        "outputId": "f7c22977-67fa-4734-fac4-3829e06cdf97"
      },
      "outputs": [
        {
          "data": {
            "text/plain": [
              "['flower_photos']"
            ]
          },
          "execution_count": 9,
          "metadata": {},
          "output_type": "execute_result"
        }
      ],
      "source": [
        "os.listdir(path_to_dataset)"
      ]
    },
    {
      "cell_type": "code",
      "execution_count": 10,
      "metadata": {
        "colab": {
          "base_uri": "https://localhost:8080/"
        },
        "id": "NWfp_SSiJHu7",
        "outputId": "39d4abc6-162a-4d9e-cbac-497b9f1932ad"
      },
      "outputs": [
        {
          "data": {
            "text/plain": [
              "['roses', 'dandelion', 'daisy', 'tulips', 'sunflowers']"
            ]
          },
          "execution_count": 10,
          "metadata": {},
          "output_type": "execute_result"
        }
      ],
      "source": [
        "rahma_dataset = os.path.join(path_to_dataset, 'flower_photos')\n",
        "os.listdir(rahma_dataset)"
      ]
    },
    {
      "cell_type": "code",
      "execution_count": 11,
      "metadata": {
        "colab": {
          "base_uri": "https://localhost:8080/"
        },
        "id": "qb-9DcG0JVLl",
        "outputId": "7d876e9d-189a-403a-efa2-56595b3677d7"
      },
      "outputs": [
        {
          "name": "stdout",
          "output_type": "stream",
          "text": [
            "Number of images in roses: 641\n",
            "Number of images in dandelion: 898\n",
            "Number of images in daisy: 633\n",
            "Number of images in tulips: 799\n",
            "Number of images in sunflowers: 699\n"
          ]
        }
      ],
      "source": [
        "for dir in os.listdir(rahma_dataset):\n",
        "  dir_path = os.path.join(rahma_dataset, dir)\n",
        "  if not os.path.isdir(dir_path):\n",
        "    print(f'{dir_path} not a dir')\n",
        "    continue\n",
        "  print(f'Number of images in {dir}: {len(os.listdir(dir_path))}')"
      ]
    },
    {
      "cell_type": "markdown",
      "metadata": {
        "id": "TC-8LPoRJ8sE"
      },
      "source": [
        "### National Flowers from Shahidul"
      ]
    },
    {
      "cell_type": "markdown",
      "metadata": {
        "id": "MNFAo5YBMQBc"
      },
      "source": [
        "- Orchid\n",
        "- Lily"
      ]
    },
    {
      "cell_type": "code",
      "execution_count": 12,
      "metadata": {
        "colab": {
          "base_uri": "https://localhost:8080/"
        },
        "id": "z34WixQQKBdS",
        "outputId": "c4e0fdd2-efdf-4ad7-8c54-42a6fc93cf44"
      },
      "outputs": [
        {
          "name": "stdout",
          "output_type": "stream",
          "text": [
            "Downloading from https://www.kaggle.com/api/v1/datasets/download/shahidulugvcse/national-flowers?dataset_version_number=1...\n"
          ]
        },
        {
          "name": "stderr",
          "output_type": "stream",
          "text": [
            "100%|██████████| 200M/200M [00:05<00:00, 36.5MB/s]"
          ]
        },
        {
          "name": "stdout",
          "output_type": "stream",
          "text": [
            "Extracting files...\n"
          ]
        },
        {
          "name": "stderr",
          "output_type": "stream",
          "text": [
            "\n"
          ]
        },
        {
          "name": "stdout",
          "output_type": "stream",
          "text": [
            "Path to dataset files: /root/.cache/kagglehub/datasets/shahidulugvcse/national-flowers/versions/1\n"
          ]
        }
      ],
      "source": [
        "# Download latest version\n",
        "path = kagglehub.dataset_download(\"shahidulugvcse/national-flowers\")\n",
        "\n",
        "print(\"Path to dataset files:\", path)"
      ]
    },
    {
      "cell_type": "code",
      "execution_count": 13,
      "metadata": {
        "id": "2Y4uzrObKO6a"
      },
      "outputs": [],
      "source": [
        "path_to_dataset = '/root/.cache/kagglehub/datasets/shahidulugvcse/national-flowers/versions/1'\n",
        "\n",
        "if not os.path.isdir(path_to_dataset):\n",
        "    print('not a dir')"
      ]
    },
    {
      "cell_type": "code",
      "execution_count": 14,
      "metadata": {
        "colab": {
          "base_uri": "https://localhost:8080/"
        },
        "id": "a3WSFNlHKVit",
        "outputId": "eba85a76-8ab4-4b03-8c5d-b4eef0790fda"
      },
      "outputs": [
        {
          "data": {
            "text/plain": [
              "['flowerdataset']"
            ]
          },
          "execution_count": 14,
          "metadata": {},
          "output_type": "execute_result"
        }
      ],
      "source": [
        "os.listdir(path_to_dataset)"
      ]
    },
    {
      "cell_type": "code",
      "execution_count": 15,
      "metadata": {
        "colab": {
          "base_uri": "https://localhost:8080/"
        },
        "id": "npod3M97KXzi",
        "outputId": "f9ca7baa-2bcd-4d78-e94c-7daa4b0c7dba"
      },
      "outputs": [
        {
          "data": {
            "text/plain": [
              "['test', 'train']"
            ]
          },
          "execution_count": 15,
          "metadata": {},
          "output_type": "execute_result"
        }
      ],
      "source": [
        "shahidul_dataset = os.path.join(path_to_dataset, 'flowerdataset')\n",
        "os.listdir(shahidul_dataset)"
      ]
    },
    {
      "cell_type": "code",
      "execution_count": 17,
      "metadata": {
        "colab": {
          "base_uri": "https://localhost:8080/"
        },
        "id": "S6uukL0xKdfq",
        "outputId": "9de8a1ae-d0ac-4bf0-a279-1bff09285442"
      },
      "outputs": [
        {
          "name": "stdout",
          "output_type": "stream",
          "text": [
            "Number of images in /root/.cache/kagglehub/datasets/shahidulugvcse/national-flowers/versions/1/flowerdataset/test/Lavender: 100\n",
            "Number of images in /root/.cache/kagglehub/datasets/shahidulugvcse/national-flowers/versions/1/flowerdataset/test/Tulip: 100\n",
            "Number of images in /root/.cache/kagglehub/datasets/shahidulugvcse/national-flowers/versions/1/flowerdataset/test/Daisy: 92\n",
            "Number of images in /root/.cache/kagglehub/datasets/shahidulugvcse/national-flowers/versions/1/flowerdataset/test/Lilly: 100\n",
            "Number of images in /root/.cache/kagglehub/datasets/shahidulugvcse/national-flowers/versions/1/flowerdataset/test/Dandelion: 100\n",
            "Number of images in /root/.cache/kagglehub/datasets/shahidulugvcse/national-flowers/versions/1/flowerdataset/test/Lotus: 100\n",
            "Number of images in /root/.cache/kagglehub/datasets/shahidulugvcse/national-flowers/versions/1/flowerdataset/test/Rose: 100\n",
            "Number of images in /root/.cache/kagglehub/datasets/shahidulugvcse/national-flowers/versions/1/flowerdataset/test/Sunflower: 100\n",
            "Number of images in /root/.cache/kagglehub/datasets/shahidulugvcse/national-flowers/versions/1/flowerdataset/test/Orchid: 89\n",
            "Number of images in /root/.cache/kagglehub/datasets/shahidulugvcse/national-flowers/versions/1/flowerdataset/train/Lavender: 400\n",
            "Number of images in /root/.cache/kagglehub/datasets/shahidulugvcse/national-flowers/versions/1/flowerdataset/train/Tulip: 400\n",
            "Number of images in /root/.cache/kagglehub/datasets/shahidulugvcse/national-flowers/versions/1/flowerdataset/train/Daisy: 400\n",
            "Number of images in /root/.cache/kagglehub/datasets/shahidulugvcse/national-flowers/versions/1/flowerdataset/train/Lilly: 400\n",
            "Number of images in /root/.cache/kagglehub/datasets/shahidulugvcse/national-flowers/versions/1/flowerdataset/train/Dandelion: 400\n",
            "Number of images in /root/.cache/kagglehub/datasets/shahidulugvcse/national-flowers/versions/1/flowerdataset/train/Lotus: 400\n",
            "Number of images in /root/.cache/kagglehub/datasets/shahidulugvcse/national-flowers/versions/1/flowerdataset/train/Rose: 400\n",
            "Number of images in /root/.cache/kagglehub/datasets/shahidulugvcse/national-flowers/versions/1/flowerdataset/train/Sunflower: 400\n",
            "Number of images in /root/.cache/kagglehub/datasets/shahidulugvcse/national-flowers/versions/1/flowerdataset/train/Orchid: 400\n"
          ]
        }
      ],
      "source": [
        "for dir in os.listdir(shahidul_dataset):\n",
        "  dir_path = os.path.join(shahidul_dataset, dir)\n",
        "  if not os.path.isdir(dir_path):\n",
        "    print(f'{dir_path} not a dir')\n",
        "    continue\n",
        "  for subdir in os.listdir(dir_path):\n",
        "    subdir_path = os.path.join(dir_path, subdir)\n",
        "    if not os.path.isdir(subdir_path):\n",
        "      print(f'{subdir_path} not a dir')\n",
        "      continue\n",
        "    print(f'Number of images in {dir_path}/{subdir}: {len(os.listdir(subdir_path))}')"
      ]
    },
    {
      "cell_type": "markdown",
      "metadata": {
        "id": "rN1o214tPLJq"
      },
      "source": [
        "### Flower Classification | 10 Classes |\n",
        "- link: [https://www.kaggle.com/datasets/utkarshsaxenadn/flower-classification-5-classes-roselilyetc]\n",
        "\n",
        "- i will try and build a model using the first version of the dataset"
      ]
    },
    {
      "cell_type": "code",
      "execution_count": 18,
      "metadata": {
        "colab": {
          "base_uri": "https://localhost:8080/"
        },
        "id": "jEFA_ISOPc5n",
        "outputId": "6e3a7349-3c11-4e9d-9407-a48ec297c8f0"
      },
      "outputs": [
        {
          "name": "stdout",
          "output_type": "stream",
          "text": [
            "Downloading from https://www.kaggle.com/api/v1/datasets/download/utkarshsaxenadn/flower-classification-5-classes-roselilyetc?dataset_version_number=2...\n"
          ]
        },
        {
          "name": "stderr",
          "output_type": "stream",
          "text": [
            "100%|██████████| 949M/949M [00:25<00:00, 38.7MB/s]"
          ]
        },
        {
          "name": "stdout",
          "output_type": "stream",
          "text": [
            "Extracting files...\n"
          ]
        },
        {
          "name": "stderr",
          "output_type": "stream",
          "text": [
            "\n"
          ]
        },
        {
          "name": "stdout",
          "output_type": "stream",
          "text": [
            "Path to dataset files: /root/.cache/kagglehub/datasets/utkarshsaxenadn/flower-classification-5-classes-roselilyetc/versions/2\n"
          ]
        }
      ],
      "source": [
        "# Download latest version\n",
        "path = kagglehub.dataset_download(\"utkarshsaxenadn/flower-classification-5-classes-roselilyetc\")\n",
        "\n",
        "print(\"Path to dataset files:\", path)"
      ]
    },
    {
      "cell_type": "code",
      "execution_count": 19,
      "metadata": {
        "id": "zPJL8tuRP5Yx"
      },
      "outputs": [],
      "source": [
        "path_to_dataset = '/root/.cache/kagglehub/datasets/utkarshsaxenadn/flower-classification-5-classes-roselilyetc/versions/2'\n",
        "\n",
        "if not os.path.isdir(path_to_dataset):\n",
        "    print('not a dir')"
      ]
    },
    {
      "cell_type": "code",
      "execution_count": 21,
      "metadata": {
        "colab": {
          "base_uri": "https://localhost:8080/"
        },
        "id": "dVVXsUkhP9dg",
        "outputId": "49bf9986-c3df-429f-8e58-d2874b5139e8"
      },
      "outputs": [
        {
          "data": {
            "text/plain": [
              "['Flower Classification V2', 'Flower Classification']"
            ]
          },
          "execution_count": 21,
          "metadata": {},
          "output_type": "execute_result"
        }
      ],
      "source": [
        "os.listdir(path_to_dataset) # I will go with the first version"
      ]
    },
    {
      "cell_type": "code",
      "execution_count": 26,
      "metadata": {
        "colab": {
          "base_uri": "https://localhost:8080/"
        },
        "id": "MSP49TPhQGx_",
        "outputId": "915b10e5-f698-44e4-c40e-2dc8ec54b233"
      },
      "outputs": [
        {
          "name": "stdout",
          "output_type": "stream",
          "text": [
            "/root/.cache/kagglehub/datasets/utkarshsaxenadn/flower-classification-5-classes-roselilyetc/versions/2/Flower Classification/Flower Classification\n"
          ]
        },
        {
          "data": {
            "text/plain": [
              "['Validation Data', 'Testing Data', 'Training Data']"
            ]
          },
          "execution_count": 26,
          "metadata": {},
          "output_type": "execute_result"
        }
      ],
      "source": [
        "dataset = os.path.join(path_to_dataset, 'Flower Classification', 'Flower Classification')\n",
        "print(dataset)\n",
        "os.listdir(dataset)"
      ]
    },
    {
      "cell_type": "code",
      "execution_count": 24,
      "metadata": {
        "id": "Vd6GTIdGQQ4t"
      },
      "outputs": [],
      "source": [
        "import tensorflow as tf\n",
        "import cv2\n",
        "from matplotlib import pyplot as plt\n",
        "import numpy as np"
      ]
    },
    {
      "cell_type": "code",
      "execution_count": 29,
      "metadata": {
        "colab": {
          "base_uri": "https://localhost:8080/"
        },
        "id": "yLNtwFtoREz0",
        "outputId": "e7102128-e69c-435f-debb-c27694dd55ba"
      },
      "outputs": [
        {
          "data": {
            "text/plain": [
              "['Lavender', 'Lily', 'Daisy', 'Rose', 'Sunflower']"
            ]
          },
          "execution_count": 29,
          "metadata": {},
          "output_type": "execute_result"
        }
      ],
      "source": [
        "os.listdir(\"/root/.cache/kagglehub/datasets/utkarshsaxenadn/flower-classification-5-classes-roselilyetc/versions/2/Flower Classification/Flower Classification/Training Data\")"
      ]
    },
    {
      "cell_type": "code",
      "execution_count": 33,
      "metadata": {
        "colab": {
          "base_uri": "https://localhost:8080/"
        },
        "id": "bnNtotIZQ8ss",
        "outputId": "e2197cf3-3837-445d-e07c-694426f0324b"
      },
      "outputs": [
        {
          "name": "stdout",
          "output_type": "stream",
          "text": [
            "Found 5000 files belonging to 5 classes.\n",
            "Found 2500 files belonging to 5 classes.\n",
            "Found 958 files belonging to 5 classes.\n"
          ]
        }
      ],
      "source": [
        "\n",
        "train = tf.keras.utils.image_dataset_from_directory(\n",
        "    '/root/.cache/kagglehub/datasets/utkarshsaxenadn/flower-classification-5-classes-roselilyetc/versions/2/Flower Classification/Flower Classification/Training Data',\n",
        "    image_size=(256, 256),\n",
        "    batch_size=32,\n",
        "    shuffle=True\n",
        ")\n",
        "\n",
        "val = tf.keras.utils.image_dataset_from_directory(\n",
        "    '/root/.cache/kagglehub/datasets/utkarshsaxenadn/flower-classification-5-classes-roselilyetc/versions/2/Flower Classification/Flower Classification/Validation Data',\n",
        "    image_size=(256, 256),\n",
        "    batch_size=32\n",
        ")\n",
        "\n",
        "test = tf.keras.utils.image_dataset_from_directory(\n",
        "    '/root/.cache/kagglehub/datasets/utkarshsaxenadn/flower-classification-5-classes-roselilyetc/versions/2/Flower Classification/Flower Classification/Testing Data',\n",
        "    image_size=(256, 256),\n",
        "    batch_size=32\n",
        ")\n"
      ]
    },
    {
      "cell_type": "code",
      "execution_count": 34,
      "metadata": {
        "colab": {
          "base_uri": "https://localhost:8080/"
        },
        "id": "K3z6fuRQRth5",
        "outputId": "94daed05-b494-4060-8039-621d506a7caf"
      },
      "outputs": [
        {
          "data": {
            "text/plain": [
              "<_PrefetchDataset element_spec=(TensorSpec(shape=(None, 256, 256, 3), dtype=tf.float32, name=None), TensorSpec(shape=(None,), dtype=tf.int32, name=None))>"
            ]
          },
          "execution_count": 34,
          "metadata": {},
          "output_type": "execute_result"
        }
      ],
      "source": [
        "train"
      ]
    },
    {
      "cell_type": "code",
      "execution_count": 35,
      "metadata": {
        "id": "LCd_bpOsR2B_"
      },
      "outputs": [],
      "source": [
        "normalization_layer = tf.keras.layers.Rescaling(1./255)\n",
        "\n",
        "train = train.map(lambda x, y: (normalization_layer(x), y))\n",
        "val = val.map(lambda x, y: (normalization_layer(x), y))\n",
        "test = test.map(lambda x, y: (normalization_layer(x), y))"
      ]
    },
    {
      "cell_type": "code",
      "execution_count": 41,
      "metadata": {
        "colab": {
          "base_uri": "https://localhost:8080/"
        },
        "id": "qPWgxkkNSNjO",
        "outputId": "6604c190-bc14-422d-f10e-f59014c43de6"
      },
      "outputs": [
        {
          "data": {
            "text/plain": [
              "NumpyIterator(iterator=<tensorflow.python.data.ops.iterator_ops.OwnedIterator object at 0x7921615a55d0>)"
            ]
          },
          "execution_count": 41,
          "metadata": {},
          "output_type": "execute_result"
        }
      ],
      "source": [
        "train_iterator = train.as_numpy_iterator()\n",
        "train_iterator"
      ]
    },
    {
      "cell_type": "code",
      "execution_count": 43,
      "metadata": {
        "colab": {
          "base_uri": "https://localhost:8080/"
        },
        "id": "OnOl3h7ZSfmN",
        "outputId": "ac9f28a8-7fa5-4df8-d23f-5b69aa5dba32"
      },
      "outputs": [
        {
          "data": {
            "text/plain": [
              "(32, 256, 256, 3)"
            ]
          },
          "execution_count": 43,
          "metadata": {},
          "output_type": "execute_result"
        }
      ],
      "source": [
        "batch = train_iterator.next()\n",
        "batch[0].shape"
      ]
    },
    {
      "cell_type": "code",
      "execution_count": 45,
      "metadata": {
        "colab": {
          "base_uri": "https://localhost:8080/"
        },
        "id": "tWGHYL6NSlXn",
        "outputId": "5f3eef0d-2f27-480b-f7c6-cf61e4f45103"
      },
      "outputs": [
        {
          "data": {
            "text/plain": [
              "array([4, 0, 4, 1, 4, 4, 0, 4, 1, 1, 0, 3, 4, 4, 2, 2, 4, 3, 1, 1, 0, 4,\n",
              "       1, 3, 3, 0, 0, 4, 3, 4, 4, 1], dtype=int32)"
            ]
          },
          "execution_count": 45,
          "metadata": {},
          "output_type": "execute_result"
        }
      ],
      "source": [
        "batch[1]"
      ]
    },
    {
      "cell_type": "code",
      "execution_count": 46,
      "metadata": {
        "id": "lWH8w0wDSp7Q"
      },
      "outputs": [],
      "source": [
        "model = tf.keras.models.Sequential([\n",
        "    tf.keras.layers.Input(shape=(256, 256, 3)),\n",
        "    tf.keras.layers.Conv2D(filters=32, kernel_size=(3, 3), padding='same', activation='relu'),\n",
        "    tf.keras.layers.BatchNormalization(),\n",
        "    tf.keras.layers.MaxPool2D(pool_size=(2,2), strides=(2,2))\n",
        "])\n",
        "\n",
        "model.add(tf.keras.layers.Conv2D(filters=64, kernel_size=(3,3), padding='same', activation='relu'))\n",
        "model.add(tf.keras.layers.BatchNormalization())\n",
        "model.add(tf.keras.layers.MaxPool2D(pool_size=(2,2), strides=(2,2) ))\n",
        "model.add(tf.keras.layers.Dropout(0.5))\n",
        "\n",
        "model.add(tf.keras.layers.Conv2D(filters=96, kernel_size=(3,3), padding='same', activation='relu'))\n",
        "model.add(tf.keras.layers.BatchNormalization())\n",
        "model.add(tf.keras.layers.MaxPool2D(pool_size=(2,2), strides=(2,2) ))\n",
        "model.add(tf.keras.layers.Dropout(0.5))\n",
        "\n",
        "model.add(tf.keras.layers.Conv2D(filters=96, kernel_size=(3,3), padding='same', activation='relu'))\n",
        "model.add(tf.keras.layers.BatchNormalization())\n",
        "model.add(tf.keras.layers.MaxPool2D(pool_size=(2,2), strides=(2,2) ))\n",
        "model.add(tf.keras.layers.Dropout(0.5))\n",
        "\n",
        "# Flatten\n",
        "\n",
        "model.add(tf.keras.layers.Flatten())\n",
        "\n",
        "model.add(tf.keras.layers.Dense(units=256, activation='relu'))\n",
        "\n",
        "# Output\n",
        "\n",
        "model.add(tf.keras.layers.Dense(units=5, activation='softmax'))"
      ]
    },
    {
      "cell_type": "code",
      "execution_count": 48,
      "metadata": {
        "colab": {
          "base_uri": "https://localhost:8080/",
          "height": 781
        },
        "id": "A5p5QKjOS08G",
        "outputId": "c0715fee-94d9-459f-d522-070b50616e82"
      },
      "outputs": [
        {
          "data": {
            "text/html": [
              "<pre style=\"white-space:pre;overflow-x:auto;line-height:normal;font-family:Menlo,'DejaVu Sans Mono',consolas,'Courier New',monospace\"><span style=\"font-weight: bold\">Model: \"sequential\"</span>\n",
              "</pre>\n"
            ],
            "text/plain": [
              "\u001b[1mModel: \"sequential\"\u001b[0m\n"
            ]
          },
          "metadata": {},
          "output_type": "display_data"
        },
        {
          "data": {
            "text/html": [
              "<pre style=\"white-space:pre;overflow-x:auto;line-height:normal;font-family:Menlo,'DejaVu Sans Mono',consolas,'Courier New',monospace\">┏━━━━━━━━━━━━━━━━━━━━━━━━━━━━━━━━━━━━━━┳━━━━━━━━━━━━━━━━━━━━━━━━━━━━━┳━━━━━━━━━━━━━━━━━┓\n",
              "┃<span style=\"font-weight: bold\"> Layer (type)                         </span>┃<span style=\"font-weight: bold\"> Output Shape                </span>┃<span style=\"font-weight: bold\">         Param # </span>┃\n",
              "┡━━━━━━━━━━━━━━━━━━━━━━━━━━━━━━━━━━━━━━╇━━━━━━━━━━━━━━━━━━━━━━━━━━━━━╇━━━━━━━━━━━━━━━━━┩\n",
              "│ conv2d (<span style=\"color: #0087ff; text-decoration-color: #0087ff\">Conv2D</span>)                      │ (<span style=\"color: #00d7ff; text-decoration-color: #00d7ff\">None</span>, <span style=\"color: #00af00; text-decoration-color: #00af00\">256</span>, <span style=\"color: #00af00; text-decoration-color: #00af00\">256</span>, <span style=\"color: #00af00; text-decoration-color: #00af00\">32</span>)        │             <span style=\"color: #00af00; text-decoration-color: #00af00\">896</span> │\n",
              "├──────────────────────────────────────┼─────────────────────────────┼─────────────────┤\n",
              "│ batch_normalization                  │ (<span style=\"color: #00d7ff; text-decoration-color: #00d7ff\">None</span>, <span style=\"color: #00af00; text-decoration-color: #00af00\">256</span>, <span style=\"color: #00af00; text-decoration-color: #00af00\">256</span>, <span style=\"color: #00af00; text-decoration-color: #00af00\">32</span>)        │             <span style=\"color: #00af00; text-decoration-color: #00af00\">128</span> │\n",
              "│ (<span style=\"color: #0087ff; text-decoration-color: #0087ff\">BatchNormalization</span>)                 │                             │                 │\n",
              "├──────────────────────────────────────┼─────────────────────────────┼─────────────────┤\n",
              "│ max_pooling2d (<span style=\"color: #0087ff; text-decoration-color: #0087ff\">MaxPooling2D</span>)         │ (<span style=\"color: #00d7ff; text-decoration-color: #00d7ff\">None</span>, <span style=\"color: #00af00; text-decoration-color: #00af00\">128</span>, <span style=\"color: #00af00; text-decoration-color: #00af00\">128</span>, <span style=\"color: #00af00; text-decoration-color: #00af00\">32</span>)        │               <span style=\"color: #00af00; text-decoration-color: #00af00\">0</span> │\n",
              "├──────────────────────────────────────┼─────────────────────────────┼─────────────────┤\n",
              "│ conv2d_1 (<span style=\"color: #0087ff; text-decoration-color: #0087ff\">Conv2D</span>)                    │ (<span style=\"color: #00d7ff; text-decoration-color: #00d7ff\">None</span>, <span style=\"color: #00af00; text-decoration-color: #00af00\">128</span>, <span style=\"color: #00af00; text-decoration-color: #00af00\">128</span>, <span style=\"color: #00af00; text-decoration-color: #00af00\">64</span>)        │          <span style=\"color: #00af00; text-decoration-color: #00af00\">18,496</span> │\n",
              "├──────────────────────────────────────┼─────────────────────────────┼─────────────────┤\n",
              "│ batch_normalization_1                │ (<span style=\"color: #00d7ff; text-decoration-color: #00d7ff\">None</span>, <span style=\"color: #00af00; text-decoration-color: #00af00\">128</span>, <span style=\"color: #00af00; text-decoration-color: #00af00\">128</span>, <span style=\"color: #00af00; text-decoration-color: #00af00\">64</span>)        │             <span style=\"color: #00af00; text-decoration-color: #00af00\">256</span> │\n",
              "│ (<span style=\"color: #0087ff; text-decoration-color: #0087ff\">BatchNormalization</span>)                 │                             │                 │\n",
              "├──────────────────────────────────────┼─────────────────────────────┼─────────────────┤\n",
              "│ max_pooling2d_1 (<span style=\"color: #0087ff; text-decoration-color: #0087ff\">MaxPooling2D</span>)       │ (<span style=\"color: #00d7ff; text-decoration-color: #00d7ff\">None</span>, <span style=\"color: #00af00; text-decoration-color: #00af00\">64</span>, <span style=\"color: #00af00; text-decoration-color: #00af00\">64</span>, <span style=\"color: #00af00; text-decoration-color: #00af00\">64</span>)          │               <span style=\"color: #00af00; text-decoration-color: #00af00\">0</span> │\n",
              "├──────────────────────────────────────┼─────────────────────────────┼─────────────────┤\n",
              "│ dropout (<span style=\"color: #0087ff; text-decoration-color: #0087ff\">Dropout</span>)                    │ (<span style=\"color: #00d7ff; text-decoration-color: #00d7ff\">None</span>, <span style=\"color: #00af00; text-decoration-color: #00af00\">64</span>, <span style=\"color: #00af00; text-decoration-color: #00af00\">64</span>, <span style=\"color: #00af00; text-decoration-color: #00af00\">64</span>)          │               <span style=\"color: #00af00; text-decoration-color: #00af00\">0</span> │\n",
              "├──────────────────────────────────────┼─────────────────────────────┼─────────────────┤\n",
              "│ conv2d_2 (<span style=\"color: #0087ff; text-decoration-color: #0087ff\">Conv2D</span>)                    │ (<span style=\"color: #00d7ff; text-decoration-color: #00d7ff\">None</span>, <span style=\"color: #00af00; text-decoration-color: #00af00\">64</span>, <span style=\"color: #00af00; text-decoration-color: #00af00\">64</span>, <span style=\"color: #00af00; text-decoration-color: #00af00\">96</span>)          │          <span style=\"color: #00af00; text-decoration-color: #00af00\">55,392</span> │\n",
              "├──────────────────────────────────────┼─────────────────────────────┼─────────────────┤\n",
              "│ batch_normalization_2                │ (<span style=\"color: #00d7ff; text-decoration-color: #00d7ff\">None</span>, <span style=\"color: #00af00; text-decoration-color: #00af00\">64</span>, <span style=\"color: #00af00; text-decoration-color: #00af00\">64</span>, <span style=\"color: #00af00; text-decoration-color: #00af00\">96</span>)          │             <span style=\"color: #00af00; text-decoration-color: #00af00\">384</span> │\n",
              "│ (<span style=\"color: #0087ff; text-decoration-color: #0087ff\">BatchNormalization</span>)                 │                             │                 │\n",
              "├──────────────────────────────────────┼─────────────────────────────┼─────────────────┤\n",
              "│ max_pooling2d_2 (<span style=\"color: #0087ff; text-decoration-color: #0087ff\">MaxPooling2D</span>)       │ (<span style=\"color: #00d7ff; text-decoration-color: #00d7ff\">None</span>, <span style=\"color: #00af00; text-decoration-color: #00af00\">32</span>, <span style=\"color: #00af00; text-decoration-color: #00af00\">32</span>, <span style=\"color: #00af00; text-decoration-color: #00af00\">96</span>)          │               <span style=\"color: #00af00; text-decoration-color: #00af00\">0</span> │\n",
              "├──────────────────────────────────────┼─────────────────────────────┼─────────────────┤\n",
              "│ dropout_1 (<span style=\"color: #0087ff; text-decoration-color: #0087ff\">Dropout</span>)                  │ (<span style=\"color: #00d7ff; text-decoration-color: #00d7ff\">None</span>, <span style=\"color: #00af00; text-decoration-color: #00af00\">32</span>, <span style=\"color: #00af00; text-decoration-color: #00af00\">32</span>, <span style=\"color: #00af00; text-decoration-color: #00af00\">96</span>)          │               <span style=\"color: #00af00; text-decoration-color: #00af00\">0</span> │\n",
              "├──────────────────────────────────────┼─────────────────────────────┼─────────────────┤\n",
              "│ conv2d_3 (<span style=\"color: #0087ff; text-decoration-color: #0087ff\">Conv2D</span>)                    │ (<span style=\"color: #00d7ff; text-decoration-color: #00d7ff\">None</span>, <span style=\"color: #00af00; text-decoration-color: #00af00\">32</span>, <span style=\"color: #00af00; text-decoration-color: #00af00\">32</span>, <span style=\"color: #00af00; text-decoration-color: #00af00\">96</span>)          │          <span style=\"color: #00af00; text-decoration-color: #00af00\">83,040</span> │\n",
              "├──────────────────────────────────────┼─────────────────────────────┼─────────────────┤\n",
              "│ batch_normalization_3                │ (<span style=\"color: #00d7ff; text-decoration-color: #00d7ff\">None</span>, <span style=\"color: #00af00; text-decoration-color: #00af00\">32</span>, <span style=\"color: #00af00; text-decoration-color: #00af00\">32</span>, <span style=\"color: #00af00; text-decoration-color: #00af00\">96</span>)          │             <span style=\"color: #00af00; text-decoration-color: #00af00\">384</span> │\n",
              "│ (<span style=\"color: #0087ff; text-decoration-color: #0087ff\">BatchNormalization</span>)                 │                             │                 │\n",
              "├──────────────────────────────────────┼─────────────────────────────┼─────────────────┤\n",
              "│ max_pooling2d_3 (<span style=\"color: #0087ff; text-decoration-color: #0087ff\">MaxPooling2D</span>)       │ (<span style=\"color: #00d7ff; text-decoration-color: #00d7ff\">None</span>, <span style=\"color: #00af00; text-decoration-color: #00af00\">16</span>, <span style=\"color: #00af00; text-decoration-color: #00af00\">16</span>, <span style=\"color: #00af00; text-decoration-color: #00af00\">96</span>)          │               <span style=\"color: #00af00; text-decoration-color: #00af00\">0</span> │\n",
              "├──────────────────────────────────────┼─────────────────────────────┼─────────────────┤\n",
              "│ dropout_2 (<span style=\"color: #0087ff; text-decoration-color: #0087ff\">Dropout</span>)                  │ (<span style=\"color: #00d7ff; text-decoration-color: #00d7ff\">None</span>, <span style=\"color: #00af00; text-decoration-color: #00af00\">16</span>, <span style=\"color: #00af00; text-decoration-color: #00af00\">16</span>, <span style=\"color: #00af00; text-decoration-color: #00af00\">96</span>)          │               <span style=\"color: #00af00; text-decoration-color: #00af00\">0</span> │\n",
              "├──────────────────────────────────────┼─────────────────────────────┼─────────────────┤\n",
              "│ flatten (<span style=\"color: #0087ff; text-decoration-color: #0087ff\">Flatten</span>)                    │ (<span style=\"color: #00d7ff; text-decoration-color: #00d7ff\">None</span>, <span style=\"color: #00af00; text-decoration-color: #00af00\">24576</span>)               │               <span style=\"color: #00af00; text-decoration-color: #00af00\">0</span> │\n",
              "├──────────────────────────────────────┼─────────────────────────────┼─────────────────┤\n",
              "│ dense (<span style=\"color: #0087ff; text-decoration-color: #0087ff\">Dense</span>)                        │ (<span style=\"color: #00d7ff; text-decoration-color: #00d7ff\">None</span>, <span style=\"color: #00af00; text-decoration-color: #00af00\">256</span>)                 │       <span style=\"color: #00af00; text-decoration-color: #00af00\">6,291,712</span> │\n",
              "├──────────────────────────────────────┼─────────────────────────────┼─────────────────┤\n",
              "│ dense_1 (<span style=\"color: #0087ff; text-decoration-color: #0087ff\">Dense</span>)                      │ (<span style=\"color: #00d7ff; text-decoration-color: #00d7ff\">None</span>, <span style=\"color: #00af00; text-decoration-color: #00af00\">5</span>)                   │           <span style=\"color: #00af00; text-decoration-color: #00af00\">1,285</span> │\n",
              "└──────────────────────────────────────┴─────────────────────────────┴─────────────────┘\n",
              "</pre>\n"
            ],
            "text/plain": [
              "┏━━━━━━━━━━━━━━━━━━━━━━━━━━━━━━━━━━━━━━┳━━━━━━━━━━━━━━━━━━━━━━━━━━━━━┳━━━━━━━━━━━━━━━━━┓\n",
              "┃\u001b[1m \u001b[0m\u001b[1mLayer (type)                        \u001b[0m\u001b[1m \u001b[0m┃\u001b[1m \u001b[0m\u001b[1mOutput Shape               \u001b[0m\u001b[1m \u001b[0m┃\u001b[1m \u001b[0m\u001b[1m        Param #\u001b[0m\u001b[1m \u001b[0m┃\n",
              "┡━━━━━━━━━━━━━━━━━━━━━━━━━━━━━━━━━━━━━━╇━━━━━━━━━━━━━━━━━━━━━━━━━━━━━╇━━━━━━━━━━━━━━━━━┩\n",
              "│ conv2d (\u001b[38;5;33mConv2D\u001b[0m)                      │ (\u001b[38;5;45mNone\u001b[0m, \u001b[38;5;34m256\u001b[0m, \u001b[38;5;34m256\u001b[0m, \u001b[38;5;34m32\u001b[0m)        │             \u001b[38;5;34m896\u001b[0m │\n",
              "├──────────────────────────────────────┼─────────────────────────────┼─────────────────┤\n",
              "│ batch_normalization                  │ (\u001b[38;5;45mNone\u001b[0m, \u001b[38;5;34m256\u001b[0m, \u001b[38;5;34m256\u001b[0m, \u001b[38;5;34m32\u001b[0m)        │             \u001b[38;5;34m128\u001b[0m │\n",
              "│ (\u001b[38;5;33mBatchNormalization\u001b[0m)                 │                             │                 │\n",
              "├──────────────────────────────────────┼─────────────────────────────┼─────────────────┤\n",
              "│ max_pooling2d (\u001b[38;5;33mMaxPooling2D\u001b[0m)         │ (\u001b[38;5;45mNone\u001b[0m, \u001b[38;5;34m128\u001b[0m, \u001b[38;5;34m128\u001b[0m, \u001b[38;5;34m32\u001b[0m)        │               \u001b[38;5;34m0\u001b[0m │\n",
              "├──────────────────────────────────────┼─────────────────────────────┼─────────────────┤\n",
              "│ conv2d_1 (\u001b[38;5;33mConv2D\u001b[0m)                    │ (\u001b[38;5;45mNone\u001b[0m, \u001b[38;5;34m128\u001b[0m, \u001b[38;5;34m128\u001b[0m, \u001b[38;5;34m64\u001b[0m)        │          \u001b[38;5;34m18,496\u001b[0m │\n",
              "├──────────────────────────────────────┼─────────────────────────────┼─────────────────┤\n",
              "│ batch_normalization_1                │ (\u001b[38;5;45mNone\u001b[0m, \u001b[38;5;34m128\u001b[0m, \u001b[38;5;34m128\u001b[0m, \u001b[38;5;34m64\u001b[0m)        │             \u001b[38;5;34m256\u001b[0m │\n",
              "│ (\u001b[38;5;33mBatchNormalization\u001b[0m)                 │                             │                 │\n",
              "├──────────────────────────────────────┼─────────────────────────────┼─────────────────┤\n",
              "│ max_pooling2d_1 (\u001b[38;5;33mMaxPooling2D\u001b[0m)       │ (\u001b[38;5;45mNone\u001b[0m, \u001b[38;5;34m64\u001b[0m, \u001b[38;5;34m64\u001b[0m, \u001b[38;5;34m64\u001b[0m)          │               \u001b[38;5;34m0\u001b[0m │\n",
              "├──────────────────────────────────────┼─────────────────────────────┼─────────────────┤\n",
              "│ dropout (\u001b[38;5;33mDropout\u001b[0m)                    │ (\u001b[38;5;45mNone\u001b[0m, \u001b[38;5;34m64\u001b[0m, \u001b[38;5;34m64\u001b[0m, \u001b[38;5;34m64\u001b[0m)          │               \u001b[38;5;34m0\u001b[0m │\n",
              "├──────────────────────────────────────┼─────────────────────────────┼─────────────────┤\n",
              "│ conv2d_2 (\u001b[38;5;33mConv2D\u001b[0m)                    │ (\u001b[38;5;45mNone\u001b[0m, \u001b[38;5;34m64\u001b[0m, \u001b[38;5;34m64\u001b[0m, \u001b[38;5;34m96\u001b[0m)          │          \u001b[38;5;34m55,392\u001b[0m │\n",
              "├──────────────────────────────────────┼─────────────────────────────┼─────────────────┤\n",
              "│ batch_normalization_2                │ (\u001b[38;5;45mNone\u001b[0m, \u001b[38;5;34m64\u001b[0m, \u001b[38;5;34m64\u001b[0m, \u001b[38;5;34m96\u001b[0m)          │             \u001b[38;5;34m384\u001b[0m │\n",
              "│ (\u001b[38;5;33mBatchNormalization\u001b[0m)                 │                             │                 │\n",
              "├──────────────────────────────────────┼─────────────────────────────┼─────────────────┤\n",
              "│ max_pooling2d_2 (\u001b[38;5;33mMaxPooling2D\u001b[0m)       │ (\u001b[38;5;45mNone\u001b[0m, \u001b[38;5;34m32\u001b[0m, \u001b[38;5;34m32\u001b[0m, \u001b[38;5;34m96\u001b[0m)          │               \u001b[38;5;34m0\u001b[0m │\n",
              "├──────────────────────────────────────┼─────────────────────────────┼─────────────────┤\n",
              "│ dropout_1 (\u001b[38;5;33mDropout\u001b[0m)                  │ (\u001b[38;5;45mNone\u001b[0m, \u001b[38;5;34m32\u001b[0m, \u001b[38;5;34m32\u001b[0m, \u001b[38;5;34m96\u001b[0m)          │               \u001b[38;5;34m0\u001b[0m │\n",
              "├──────────────────────────────────────┼─────────────────────────────┼─────────────────┤\n",
              "│ conv2d_3 (\u001b[38;5;33mConv2D\u001b[0m)                    │ (\u001b[38;5;45mNone\u001b[0m, \u001b[38;5;34m32\u001b[0m, \u001b[38;5;34m32\u001b[0m, \u001b[38;5;34m96\u001b[0m)          │          \u001b[38;5;34m83,040\u001b[0m │\n",
              "├──────────────────────────────────────┼─────────────────────────────┼─────────────────┤\n",
              "│ batch_normalization_3                │ (\u001b[38;5;45mNone\u001b[0m, \u001b[38;5;34m32\u001b[0m, \u001b[38;5;34m32\u001b[0m, \u001b[38;5;34m96\u001b[0m)          │             \u001b[38;5;34m384\u001b[0m │\n",
              "│ (\u001b[38;5;33mBatchNormalization\u001b[0m)                 │                             │                 │\n",
              "├──────────────────────────────────────┼─────────────────────────────┼─────────────────┤\n",
              "│ max_pooling2d_3 (\u001b[38;5;33mMaxPooling2D\u001b[0m)       │ (\u001b[38;5;45mNone\u001b[0m, \u001b[38;5;34m16\u001b[0m, \u001b[38;5;34m16\u001b[0m, \u001b[38;5;34m96\u001b[0m)          │               \u001b[38;5;34m0\u001b[0m │\n",
              "├──────────────────────────────────────┼─────────────────────────────┼─────────────────┤\n",
              "│ dropout_2 (\u001b[38;5;33mDropout\u001b[0m)                  │ (\u001b[38;5;45mNone\u001b[0m, \u001b[38;5;34m16\u001b[0m, \u001b[38;5;34m16\u001b[0m, \u001b[38;5;34m96\u001b[0m)          │               \u001b[38;5;34m0\u001b[0m │\n",
              "├──────────────────────────────────────┼─────────────────────────────┼─────────────────┤\n",
              "│ flatten (\u001b[38;5;33mFlatten\u001b[0m)                    │ (\u001b[38;5;45mNone\u001b[0m, \u001b[38;5;34m24576\u001b[0m)               │               \u001b[38;5;34m0\u001b[0m │\n",
              "├──────────────────────────────────────┼─────────────────────────────┼─────────────────┤\n",
              "│ dense (\u001b[38;5;33mDense\u001b[0m)                        │ (\u001b[38;5;45mNone\u001b[0m, \u001b[38;5;34m256\u001b[0m)                 │       \u001b[38;5;34m6,291,712\u001b[0m │\n",
              "├──────────────────────────────────────┼─────────────────────────────┼─────────────────┤\n",
              "│ dense_1 (\u001b[38;5;33mDense\u001b[0m)                      │ (\u001b[38;5;45mNone\u001b[0m, \u001b[38;5;34m5\u001b[0m)                   │           \u001b[38;5;34m1,285\u001b[0m │\n",
              "└──────────────────────────────────────┴─────────────────────────────┴─────────────────┘\n"
            ]
          },
          "metadata": {},
          "output_type": "display_data"
        },
        {
          "data": {
            "text/html": [
              "<pre style=\"white-space:pre;overflow-x:auto;line-height:normal;font-family:Menlo,'DejaVu Sans Mono',consolas,'Courier New',monospace\"><span style=\"font-weight: bold\"> Total params: </span><span style=\"color: #00af00; text-decoration-color: #00af00\">6,451,973</span> (24.61 MB)\n",
              "</pre>\n"
            ],
            "text/plain": [
              "\u001b[1m Total params: \u001b[0m\u001b[38;5;34m6,451,973\u001b[0m (24.61 MB)\n"
            ]
          },
          "metadata": {},
          "output_type": "display_data"
        },
        {
          "data": {
            "text/html": [
              "<pre style=\"white-space:pre;overflow-x:auto;line-height:normal;font-family:Menlo,'DejaVu Sans Mono',consolas,'Courier New',monospace\"><span style=\"font-weight: bold\"> Trainable params: </span><span style=\"color: #00af00; text-decoration-color: #00af00\">6,451,397</span> (24.61 MB)\n",
              "</pre>\n"
            ],
            "text/plain": [
              "\u001b[1m Trainable params: \u001b[0m\u001b[38;5;34m6,451,397\u001b[0m (24.61 MB)\n"
            ]
          },
          "metadata": {},
          "output_type": "display_data"
        },
        {
          "data": {
            "text/html": [
              "<pre style=\"white-space:pre;overflow-x:auto;line-height:normal;font-family:Menlo,'DejaVu Sans Mono',consolas,'Courier New',monospace\"><span style=\"font-weight: bold\"> Non-trainable params: </span><span style=\"color: #00af00; text-decoration-color: #00af00\">576</span> (2.25 KB)\n",
              "</pre>\n"
            ],
            "text/plain": [
              "\u001b[1m Non-trainable params: \u001b[0m\u001b[38;5;34m576\u001b[0m (2.25 KB)\n"
            ]
          },
          "metadata": {},
          "output_type": "display_data"
        }
      ],
      "source": [
        "model.summary()"
      ]
    },
    {
      "cell_type": "code",
      "execution_count": 49,
      "metadata": {
        "colab": {
          "base_uri": "https://localhost:8080/"
        },
        "id": "NqhBhpm3S4Ty",
        "outputId": "e12ae72a-9101-471d-ff8f-9d865cf042b6"
      },
      "outputs": [
        {
          "name": "stdout",
          "output_type": "stream",
          "text": [
            "Etichete (labels):\n",
            "[1 1 4 3 1 4 4 0 1 1 3 2 1 3 0 1 4 2 1 3 2 2 2 3 2 0 4 4 0 0 1 4]\n"
          ]
        }
      ],
      "source": [
        "for images, labels in train.take(1):\n",
        "    print(\"Etichete (labels):\")\n",
        "    print(labels.numpy())"
      ]
    },
    {
      "cell_type": "code",
      "execution_count": 50,
      "metadata": {
        "colab": {
          "base_uri": "https://localhost:8080/"
        },
        "id": "i4diTlwCS7sO",
        "outputId": "23d1f17d-f0d6-4c54-a655-154e3458e29a"
      },
      "outputs": [
        {
          "name": "stdout",
          "output_type": "stream",
          "text": [
            "Epoch 1/50\n",
            "\u001b[1m157/157\u001b[0m \u001b[32m━━━━━━━━━━━━━━━━━━━━\u001b[0m\u001b[37m\u001b[0m \u001b[1m42s\u001b[0m 177ms/step - accuracy: 0.4873 - loss: 5.7137 - val_accuracy: 0.3020 - val_loss: 4.6653\n",
            "Epoch 2/50\n",
            "\u001b[1m157/157\u001b[0m \u001b[32m━━━━━━━━━━━━━━━━━━━━\u001b[0m\u001b[37m\u001b[0m \u001b[1m16s\u001b[0m 86ms/step - accuracy: 0.6842 - loss: 0.8445 - val_accuracy: 0.4264 - val_loss: 4.4762\n",
            "Epoch 3/50\n",
            "\u001b[1m157/157\u001b[0m \u001b[32m━━━━━━━━━━━━━━━━━━━━\u001b[0m\u001b[37m\u001b[0m \u001b[1m20s\u001b[0m 85ms/step - accuracy: 0.7177 - loss: 0.7563 - val_accuracy: 0.5240 - val_loss: 4.1290\n",
            "Epoch 4/50\n",
            "\u001b[1m157/157\u001b[0m \u001b[32m━━━━━━━━━━━━━━━━━━━━\u001b[0m\u001b[37m\u001b[0m \u001b[1m21s\u001b[0m 91ms/step - accuracy: 0.7539 - loss: 0.6843 - val_accuracy: 0.5948 - val_loss: 3.8895\n",
            "Epoch 5/50\n",
            "\u001b[1m157/157\u001b[0m \u001b[32m━━━━━━━━━━━━━━━━━━━━\u001b[0m\u001b[37m\u001b[0m \u001b[1m14s\u001b[0m 91ms/step - accuracy: 0.7690 - loss: 0.6194 - val_accuracy: 0.6416 - val_loss: 3.7219\n",
            "Epoch 6/50\n",
            "\u001b[1m157/157\u001b[0m \u001b[32m━━━━━━━━━━━━━━━━━━━━\u001b[0m\u001b[37m\u001b[0m \u001b[1m14s\u001b[0m 89ms/step - accuracy: 0.8004 - loss: 0.5481 - val_accuracy: 0.6920 - val_loss: 2.1902\n",
            "Epoch 7/50\n",
            "\u001b[1m157/157\u001b[0m \u001b[32m━━━━━━━━━━━━━━━━━━━━\u001b[0m\u001b[37m\u001b[0m \u001b[1m20s\u001b[0m 83ms/step - accuracy: 0.8286 - loss: 0.4759 - val_accuracy: 0.6284 - val_loss: 2.3787\n",
            "Epoch 8/50\n",
            "\u001b[1m157/157\u001b[0m \u001b[32m━━━━━━━━━━━━━━━━━━━━\u001b[0m\u001b[37m\u001b[0m \u001b[1m13s\u001b[0m 84ms/step - accuracy: 0.8465 - loss: 0.4210 - val_accuracy: 0.6960 - val_loss: 1.4860\n",
            "Epoch 9/50\n",
            "\u001b[1m157/157\u001b[0m \u001b[32m━━━━━━━━━━━━━━━━━━━━\u001b[0m\u001b[37m\u001b[0m \u001b[1m13s\u001b[0m 86ms/step - accuracy: 0.8614 - loss: 0.3786 - val_accuracy: 0.6492 - val_loss: 1.6817\n",
            "Epoch 10/50\n",
            "\u001b[1m157/157\u001b[0m \u001b[32m━━━━━━━━━━━━━━━━━━━━\u001b[0m\u001b[37m\u001b[0m \u001b[1m23s\u001b[0m 99ms/step - accuracy: 0.8608 - loss: 0.3945 - val_accuracy: 0.7428 - val_loss: 1.5821\n",
            "Epoch 11/50\n",
            "\u001b[1m157/157\u001b[0m \u001b[32m━━━━━━━━━━━━━━━━━━━━\u001b[0m\u001b[37m\u001b[0m \u001b[1m13s\u001b[0m 84ms/step - accuracy: 0.8995 - loss: 0.2903 - val_accuracy: 0.7896 - val_loss: 0.9755\n",
            "Epoch 12/50\n",
            "\u001b[1m157/157\u001b[0m \u001b[32m━━━━━━━━━━━━━━━━━━━━\u001b[0m\u001b[37m\u001b[0m \u001b[1m20s\u001b[0m 84ms/step - accuracy: 0.8991 - loss: 0.2736 - val_accuracy: 0.7512 - val_loss: 1.2535\n",
            "Epoch 13/50\n",
            "\u001b[1m157/157\u001b[0m \u001b[32m━━━━━━━━━━━━━━━━━━━━\u001b[0m\u001b[37m\u001b[0m \u001b[1m21s\u001b[0m 85ms/step - accuracy: 0.9172 - loss: 0.2358 - val_accuracy: 0.7396 - val_loss: 1.7033\n",
            "Epoch 14/50\n",
            "\u001b[1m157/157\u001b[0m \u001b[32m━━━━━━━━━━━━━━━━━━━━\u001b[0m\u001b[37m\u001b[0m \u001b[1m23s\u001b[0m 102ms/step - accuracy: 0.9282 - loss: 0.2074 - val_accuracy: 0.7596 - val_loss: 1.2848\n",
            "Epoch 15/50\n",
            "\u001b[1m157/157\u001b[0m \u001b[32m━━━━━━━━━━━━━━━━━━━━\u001b[0m\u001b[37m\u001b[0m \u001b[1m14s\u001b[0m 88ms/step - accuracy: 0.9164 - loss: 0.2292 - val_accuracy: 0.7584 - val_loss: 1.3201\n",
            "Epoch 16/50\n",
            "\u001b[1m157/157\u001b[0m \u001b[32m━━━━━━━━━━━━━━━━━━━━\u001b[0m\u001b[37m\u001b[0m \u001b[1m16s\u001b[0m 100ms/step - accuracy: 0.9343 - loss: 0.2024 - val_accuracy: 0.7804 - val_loss: 1.3349\n",
            "Epoch 17/50\n",
            "\u001b[1m157/157\u001b[0m \u001b[32m━━━━━━━━━━━━━━━━━━━━\u001b[0m\u001b[37m\u001b[0m \u001b[1m18s\u001b[0m 82ms/step - accuracy: 0.9375 - loss: 0.1789 - val_accuracy: 0.7732 - val_loss: 1.3356\n",
            "Epoch 18/50\n",
            "\u001b[1m157/157\u001b[0m \u001b[32m━━━━━━━━━━━━━━━━━━━━\u001b[0m\u001b[37m\u001b[0m \u001b[1m21s\u001b[0m 84ms/step - accuracy: 0.9409 - loss: 0.1689 - val_accuracy: 0.7964 - val_loss: 1.0519\n",
            "Epoch 19/50\n",
            "\u001b[1m157/157\u001b[0m \u001b[32m━━━━━━━━━━━━━━━━━━━━\u001b[0m\u001b[37m\u001b[0m \u001b[1m16s\u001b[0m 100ms/step - accuracy: 0.9585 - loss: 0.1268 - val_accuracy: 0.8088 - val_loss: 1.0171\n",
            "Epoch 20/50\n",
            "\u001b[1m157/157\u001b[0m \u001b[32m━━━━━━━━━━━━━━━━━━━━\u001b[0m\u001b[37m\u001b[0m \u001b[1m18s\u001b[0m 85ms/step - accuracy: 0.9543 - loss: 0.1314 - val_accuracy: 0.7892 - val_loss: 1.3019\n",
            "Epoch 21/50\n",
            "\u001b[1m157/157\u001b[0m \u001b[32m━━━━━━━━━━━━━━━━━━━━\u001b[0m\u001b[37m\u001b[0m \u001b[1m21s\u001b[0m 87ms/step - accuracy: 0.9723 - loss: 0.0877 - val_accuracy: 0.7760 - val_loss: 1.6340\n",
            "Epoch 22/50\n",
            "\u001b[1m157/157\u001b[0m \u001b[32m━━━━━━━━━━━━━━━━━━━━\u001b[0m\u001b[37m\u001b[0m \u001b[1m13s\u001b[0m 84ms/step - accuracy: 0.9494 - loss: 0.1434 - val_accuracy: 0.6884 - val_loss: 2.5750\n",
            "Epoch 23/50\n",
            "\u001b[1m157/157\u001b[0m \u001b[32m━━━━━━━━━━━━━━━━━━━━\u001b[0m\u001b[37m\u001b[0m \u001b[1m21s\u001b[0m 87ms/step - accuracy: 0.9531 - loss: 0.1368 - val_accuracy: 0.7928 - val_loss: 1.1698\n",
            "Epoch 24/50\n",
            "\u001b[1m157/157\u001b[0m \u001b[32m━━━━━━━━━━━━━━━━━━━━\u001b[0m\u001b[37m\u001b[0m \u001b[1m14s\u001b[0m 87ms/step - accuracy: 0.9608 - loss: 0.1138 - val_accuracy: 0.8196 - val_loss: 1.0233\n",
            "Epoch 25/50\n",
            "\u001b[1m157/157\u001b[0m \u001b[32m━━━━━━━━━━━━━━━━━━━━\u001b[0m\u001b[37m\u001b[0m \u001b[1m16s\u001b[0m 103ms/step - accuracy: 0.9736 - loss: 0.0801 - val_accuracy: 0.8224 - val_loss: 1.1378\n",
            "Epoch 26/50\n",
            "\u001b[1m157/157\u001b[0m \u001b[32m━━━━━━━━━━━━━━━━━━━━\u001b[0m\u001b[37m\u001b[0m \u001b[1m18s\u001b[0m 86ms/step - accuracy: 0.9717 - loss: 0.0892 - val_accuracy: 0.7892 - val_loss: 1.4228\n",
            "Epoch 27/50\n",
            "\u001b[1m157/157\u001b[0m \u001b[32m━━━━━━━━━━━━━━━━━━━━\u001b[0m\u001b[37m\u001b[0m \u001b[1m13s\u001b[0m 85ms/step - accuracy: 0.9707 - loss: 0.0905 - val_accuracy: 0.7912 - val_loss: 1.2841\n",
            "Epoch 28/50\n",
            "\u001b[1m157/157\u001b[0m \u001b[32m━━━━━━━━━━━━━━━━━━━━\u001b[0m\u001b[37m\u001b[0m \u001b[1m14s\u001b[0m 87ms/step - accuracy: 0.9744 - loss: 0.0763 - val_accuracy: 0.8080 - val_loss: 1.3262\n",
            "Epoch 29/50\n",
            "\u001b[1m157/157\u001b[0m \u001b[32m━━━━━━━━━━━━━━━━━━━━\u001b[0m\u001b[37m\u001b[0m \u001b[1m21s\u001b[0m 90ms/step - accuracy: 0.9759 - loss: 0.0898 - val_accuracy: 0.8128 - val_loss: 1.1927\n",
            "Epoch 30/50\n",
            "\u001b[1m157/157\u001b[0m \u001b[32m━━━━━━━━━━━━━━━━━━━━\u001b[0m\u001b[37m\u001b[0m \u001b[1m14s\u001b[0m 88ms/step - accuracy: 0.9705 - loss: 0.0962 - val_accuracy: 0.7900 - val_loss: 1.5072\n",
            "Epoch 31/50\n",
            "\u001b[1m157/157\u001b[0m \u001b[32m━━━━━━━━━━━━━━━━━━━━\u001b[0m\u001b[37m\u001b[0m \u001b[1m20s\u001b[0m 86ms/step - accuracy: 0.9704 - loss: 0.0818 - val_accuracy: 0.8228 - val_loss: 1.1414\n",
            "Epoch 32/50\n",
            "\u001b[1m157/157\u001b[0m \u001b[32m━━━━━━━━━━━━━━━━━━━━\u001b[0m\u001b[37m\u001b[0m \u001b[1m23s\u001b[0m 100ms/step - accuracy: 0.9707 - loss: 0.0900 - val_accuracy: 0.8044 - val_loss: 1.3409\n",
            "Epoch 33/50\n",
            "\u001b[1m157/157\u001b[0m \u001b[32m━━━━━━━━━━━━━━━━━━━━\u001b[0m\u001b[37m\u001b[0m \u001b[1m18s\u001b[0m 84ms/step - accuracy: 0.9745 - loss: 0.0738 - val_accuracy: 0.8024 - val_loss: 1.1959\n",
            "Epoch 34/50\n",
            "\u001b[1m157/157\u001b[0m \u001b[32m━━━━━━━━━━━━━━━━━━━━\u001b[0m\u001b[37m\u001b[0m \u001b[1m21s\u001b[0m 85ms/step - accuracy: 0.9713 - loss: 0.0858 - val_accuracy: 0.8068 - val_loss: 1.4563\n",
            "Epoch 35/50\n",
            "\u001b[1m157/157\u001b[0m \u001b[32m━━━━━━━━━━━━━━━━━━━━\u001b[0m\u001b[37m\u001b[0m \u001b[1m13s\u001b[0m 85ms/step - accuracy: 0.9790 - loss: 0.0609 - val_accuracy: 0.7896 - val_loss: 1.6749\n",
            "Epoch 36/50\n",
            "\u001b[1m157/157\u001b[0m \u001b[32m━━━━━━━━━━━━━━━━━━━━\u001b[0m\u001b[37m\u001b[0m \u001b[1m13s\u001b[0m 85ms/step - accuracy: 0.9701 - loss: 0.1024 - val_accuracy: 0.8116 - val_loss: 1.3930\n",
            "Epoch 37/50\n",
            "\u001b[1m157/157\u001b[0m \u001b[32m━━━━━━━━━━━━━━━━━━━━\u001b[0m\u001b[37m\u001b[0m \u001b[1m16s\u001b[0m 101ms/step - accuracy: 0.9786 - loss: 0.0764 - val_accuracy: 0.7952 - val_loss: 1.1974\n",
            "Epoch 38/50\n",
            "\u001b[1m157/157\u001b[0m \u001b[32m━━━━━━━━━━━━━━━━━━━━\u001b[0m\u001b[37m\u001b[0m \u001b[1m18s\u001b[0m 84ms/step - accuracy: 0.9817 - loss: 0.0650 - val_accuracy: 0.8004 - val_loss: 1.3902\n",
            "Epoch 39/50\n",
            "\u001b[1m157/157\u001b[0m \u001b[32m━━━━━━━━━━━━━━━━━━━━\u001b[0m\u001b[37m\u001b[0m \u001b[1m13s\u001b[0m 85ms/step - accuracy: 0.9828 - loss: 0.0483 - val_accuracy: 0.7788 - val_loss: 1.4367\n",
            "Epoch 40/50\n",
            "\u001b[1m157/157\u001b[0m \u001b[32m━━━━━━━━━━━━━━━━━━━━\u001b[0m\u001b[37m\u001b[0m \u001b[1m20s\u001b[0m 85ms/step - accuracy: 0.9848 - loss: 0.0548 - val_accuracy: 0.7904 - val_loss: 1.3188\n",
            "Epoch 41/50\n",
            "\u001b[1m157/157\u001b[0m \u001b[32m━━━━━━━━━━━━━━━━━━━━\u001b[0m\u001b[37m\u001b[0m \u001b[1m21s\u001b[0m 88ms/step - accuracy: 0.9881 - loss: 0.0414 - val_accuracy: 0.8176 - val_loss: 1.2893\n",
            "Epoch 42/50\n",
            "\u001b[1m157/157\u001b[0m \u001b[32m━━━━━━━━━━━━━━━━━━━━\u001b[0m\u001b[37m\u001b[0m \u001b[1m14s\u001b[0m 86ms/step - accuracy: 0.9786 - loss: 0.0823 - val_accuracy: 0.8108 - val_loss: 1.4270\n",
            "Epoch 43/50\n",
            "\u001b[1m157/157\u001b[0m \u001b[32m━━━━━━━━━━━━━━━━━━━━\u001b[0m\u001b[37m\u001b[0m \u001b[1m21s\u001b[0m 86ms/step - accuracy: 0.9797 - loss: 0.0631 - val_accuracy: 0.8108 - val_loss: 1.5851\n",
            "Epoch 44/50\n",
            "\u001b[1m157/157\u001b[0m \u001b[32m━━━━━━━━━━━━━━━━━━━━\u001b[0m\u001b[37m\u001b[0m \u001b[1m14s\u001b[0m 88ms/step - accuracy: 0.9807 - loss: 0.0622 - val_accuracy: 0.8252 - val_loss: 1.3586\n",
            "Epoch 45/50\n",
            "\u001b[1m157/157\u001b[0m \u001b[32m━━━━━━━━━━━━━━━━━━━━\u001b[0m\u001b[37m\u001b[0m \u001b[1m14s\u001b[0m 89ms/step - accuracy: 0.9775 - loss: 0.0758 - val_accuracy: 0.7924 - val_loss: 1.8751\n",
            "Epoch 46/50\n",
            "\u001b[1m157/157\u001b[0m \u001b[32m━━━━━━━━━━━━━━━━━━━━\u001b[0m\u001b[37m\u001b[0m \u001b[1m22s\u001b[0m 101ms/step - accuracy: 0.9846 - loss: 0.0443 - val_accuracy: 0.8152 - val_loss: 1.4206\n",
            "Epoch 47/50\n",
            "\u001b[1m157/157\u001b[0m \u001b[32m━━━━━━━━━━━━━━━━━━━━\u001b[0m\u001b[37m\u001b[0m \u001b[1m19s\u001b[0m 88ms/step - accuracy: 0.9791 - loss: 0.0783 - val_accuracy: 0.7552 - val_loss: 1.8876\n",
            "Epoch 48/50\n",
            "\u001b[1m157/157\u001b[0m \u001b[32m━━━━━━━━━━━━━━━━━━━━\u001b[0m\u001b[37m\u001b[0m \u001b[1m14s\u001b[0m 88ms/step - accuracy: 0.9747 - loss: 0.0891 - val_accuracy: 0.8296 - val_loss: 1.2912\n",
            "Epoch 49/50\n",
            "\u001b[1m157/157\u001b[0m \u001b[32m━━━━━━━━━━━━━━━━━━━━\u001b[0m\u001b[37m\u001b[0m \u001b[1m14s\u001b[0m 89ms/step - accuracy: 0.9827 - loss: 0.0523 - val_accuracy: 0.8004 - val_loss: 1.5272\n",
            "Epoch 50/50\n",
            "\u001b[1m157/157\u001b[0m \u001b[32m━━━━━━━━━━━━━━━━━━━━\u001b[0m\u001b[37m\u001b[0m \u001b[1m22s\u001b[0m 100ms/step - accuracy: 0.9767 - loss: 0.0737 - val_accuracy: 0.8320 - val_loss: 1.4571\n",
            "[0.5777999758720398, 0.6901999711990356, 0.7372000217437744, 0.7422000169754028, 0.7803999781608582, 0.8059999942779541, 0.8325999975204468, 0.8532000184059143, 0.8632000088691711, 0.8700000047683716, 0.8949999809265137, 0.9074000120162964, 0.9251999855041504, 0.9283999800682068, 0.9204000234603882, 0.9372000098228455, 0.9386000037193298, 0.9452000260353088, 0.9611999988555908, 0.9585999846458435, 0.9696000218391418, 0.9567999839782715, 0.9588000178337097, 0.9649999737739563, 0.9778000116348267, 0.9721999764442444, 0.9697999954223633, 0.9733999967575073, 0.9787999987602234, 0.9721999764442444, 0.9685999751091003, 0.9697999954223633, 0.9746000170707703, 0.9753999710083008, 0.979200005531311, 0.9697999954223633, 0.9768000245094299, 0.978600025177002, 0.9836000204086304, 0.9846000075340271, 0.9883999824523926, 0.977400004863739, 0.9832000136375427, 0.9837999939918518, 0.9760000109672546, 0.9832000136375427, 0.978600025177002, 0.978600025177002, 0.977400004863739, 0.9797999858856201]\n",
            "[0.3019999861717224, 0.42640000581741333, 0.5239999890327454, 0.5947999954223633, 0.6416000127792358, 0.6919999718666077, 0.6284000277519226, 0.6959999799728394, 0.6492000222206116, 0.7427999973297119, 0.7896000146865845, 0.7512000203132629, 0.7396000027656555, 0.7595999836921692, 0.758400022983551, 0.7803999781608582, 0.7731999754905701, 0.7964000105857849, 0.8087999820709229, 0.7892000079154968, 0.7760000228881836, 0.6883999705314636, 0.7928000092506409, 0.819599986076355, 0.8223999738693237, 0.7892000079154968, 0.7911999821662903, 0.8080000281333923, 0.8127999901771545, 0.7900000214576721, 0.8227999806404114, 0.8044000267982483, 0.8023999929428101, 0.8068000078201294, 0.7896000146865845, 0.8116000294685364, 0.795199990272522, 0.8004000186920166, 0.7788000106811523, 0.7904000282287598, 0.8176000118255615, 0.8108000159263611, 0.8108000159263611, 0.8252000212669373, 0.7924000024795532, 0.8151999711990356, 0.7552000284194946, 0.8295999765396118, 0.8004000186920166, 0.8320000171661377]\n"
          ]
        }
      ],
      "source": [
        "model.compile(optimizer='adam', loss='sparse_categorical_crossentropy', metrics=['accuracy'])\n",
        "# early_stop = tf.keras.callbacks.EarlyStopping(\n",
        "#     monitor='val_loss', patience=5, restore_best_weights=True\n",
        "# )\n",
        "\n",
        "# reduce_lr = tf.keras.callbacks.ReduceLROnPlateau(\n",
        "#     monitor='val_loss', factor=0.5, patience=3\n",
        "# )\n",
        "\n",
        "history = model.fit(\n",
        "    train,\n",
        "    validation_data=val,\n",
        "    batch_size=32,\n",
        "    epochs=50,\n",
        "    # callbacks=[early_stop, reduce_lr]\n",
        ")\n",
        "\n",
        "acc = history.history['accuracy']\n",
        "val_acc = history.history['val_accuracy']\n",
        "\n",
        "loss = history.history['loss']\n",
        "val_loss = history.history['val_loss']\n",
        "\n",
        "print(acc)\n",
        "print(val_acc)"
      ]
    },
    {
      "cell_type": "code",
      "execution_count": 87,
      "metadata": {
        "colab": {
          "base_uri": "https://localhost:8080/"
        },
        "id": "PMZ58_X_cQ7Z",
        "outputId": "163d06a3-a1ec-4ee4-8db5-a28ed4b72704"
      },
      "outputs": [
        {
          "name": "stdout",
          "output_type": "stream",
          "text": [
            "path/content\n"
          ]
        }
      ],
      "source": [
        "save_path = os.getcwd()\n",
        "if not os.path.isdir(save_path):\n",
        "    print('not good')\n",
        "else:\n",
        "    print(f'path{save_path}')"
      ]
    },
    {
      "cell_type": "code",
      "execution_count": 88,
      "metadata": {
        "colab": {
          "base_uri": "https://localhost:8080/"
        },
        "id": "k6INplOMcn1j",
        "outputId": "5e7b1acb-71f8-4faf-a8d9-24af48320725"
      },
      "outputs": [
        {
          "name": "stdout",
          "output_type": "stream",
          "text": [
            "/content/DeepNets_FlowerDatasetV1.keras\n"
          ]
        }
      ],
      "source": [
        "path = os.path.join(save_path, 'DeepNets_FlowerDatasetV1.keras')\n",
        "print(path)\n",
        "model.save(path)"
      ]
    },
    {
      "cell_type": "code",
      "execution_count": 51,
      "metadata": {
        "colab": {
          "base_uri": "https://localhost:8080/",
          "height": 478
        },
        "id": "C5lHE6Z7XPS1",
        "outputId": "2fb152a9-bf94-4289-bab2-7e21e27756c3"
      },
      "outputs": [
        {
          "data": {
            "image/png": "[encoded data removed]",
            "text/plain": [
              "<Figure size 640x480 with 1 Axes>"
            ]
          },
          "metadata": {},
          "output_type": "display_data"
        }
      ],
      "source": [
        "fig = plt.figure()\n",
        "plt.plot(history.history['loss'], color='teal', label='loss')\n",
        "plt.plot(history.history['val_loss'], color='orange', label='val_loss')\n",
        "fig.suptitle('Loss', fontsize=20)\n",
        "plt.legend(loc='upper right')\n",
        "plt.show()"
      ]
    },
    {
      "cell_type": "code",
      "execution_count": 52,
      "metadata": {
        "colab": {
          "base_uri": "https://localhost:8080/",
          "height": 478
        },
        "id": "G14yGebBXTf6",
        "outputId": "ffbc4303-9aa7-45f6-d2d3-c028bcb7cb84"
      },
      "outputs": [
        {
          "data": {
            "image/png": "[encoded data removed]",
            "text/plain": [
              "<Figure size 640x480 with 1 Axes>"
            ]
          },
          "metadata": {},
          "output_type": "display_data"
        }
      ],
      "source": [
        "fig = plt.figure()\n",
        "plt.plot(history.history['accuracy'], color='teal', label='accuracy')\n",
        "plt.plot(history.history['val_accuracy'], color='orange', label='val_accuracy')\n",
        "fig.suptitle('Accuracy', fontsize=20)\n",
        "plt.legend(loc='upper left')\n",
        "plt.show()"
      ]
    },
    {
      "cell_type": "code",
      "execution_count": 76,
      "metadata": {
        "colab": {
          "base_uri": "https://localhost:8080/"
        },
        "id": "9wTnnyIsX_bf",
        "outputId": "9dd325b8-493c-4c52-d5b9-088505b5cb6d"
      },
      "outputs": [
        {
          "name": "stdout",
          "output_type": "stream",
          "text": [
            "❌ Deleted (invalid image format: WEBP): /root/.cache/kagglehub/datasets/utkarshsaxenadn/flower-classification-5-classes-roselilyetc/versions/2/Flower Classification/Flower Classification/Testing Data/Lily/Lily (33).jpg\n"
          ]
        }
      ],
      "source": [
        "from PIL import Image\n",
        "\n",
        "def clean_images_folder_strict(folder_path):\n",
        "    allowed_extensions = ('.jpg', '.jpeg', '.png', '.gif', '.bmp')\n",
        "\n",
        "    for root, _, files in os.walk(folder_path):\n",
        "        for file in files:\n",
        "            file_path = os.path.join(root, file)\n",
        "            ext = os.path.splitext(file)[1].lower()\n",
        "\n",
        "            if ext not in allowed_extensions:\n",
        "                print(f\"❌ Deleted (unsupported extension): {file_path}\")\n",
        "                os.remove(file_path)\n",
        "                continue\n",
        "\n",
        "            try:\n",
        "                with Image.open(file_path) as img:\n",
        "                    if img.format.lower() not in ['jpeg', 'png', 'gif', 'bmp']:\n",
        "                        print(f\"❌ Deleted (invalid image format: {img.format}): {file_path}\")\n",
        "                        os.remove(file_path)\n",
        "                        continue\n",
        "\n",
        "                    img.load()\n",
        "            except Exception as e:\n",
        "                print(f\"⚠️ Deleted (invalid image): {file_path} – {e}\")\n",
        "                os.remove(file_path)\n",
        "\n",
        "\n",
        "\n",
        "clean_images_folder_strict('/root/.cache/kagglehub/datasets/utkarshsaxenadn/flower-classification-5-classes-roselilyetc/versions/2/Flower Classification/Flower Classification/Testing Data')"
      ]
    },
    {
      "cell_type": "code",
      "execution_count": 82,
      "metadata": {
        "colab": {
          "base_uri": "https://localhost:8080/"
        },
        "id": "6Qx85hJMYIBm",
        "outputId": "e442eb91-7109-422b-d912-2b5ed13650d1"
      },
      "outputs": [
        {
          "name": "stdout",
          "output_type": "stream",
          "text": [
            "Found 957 files belonging to 5 classes.\n",
            "Mapare clase: ['Daisy', 'Lavender', 'Lily', 'Rose', 'Sunflower']\n"
          ]
        }
      ],
      "source": [
        "test_original = tf.keras.utils.image_dataset_from_directory(\n",
        "    '/root/.cache/kagglehub/datasets/utkarshsaxenadn/flower-classification-5-classes-roselilyetc/versions/2/Flower Classification/Flower Classification/Testing Data',\n",
        "    image_size=(256, 256),\n",
        "    batch_size=32,\n",
        "    shuffle=False \n",
        ")\n",
        "\n",
        "for images, labels in test_original.take(1):\n",
        "    pass \n",
        "class_indices = test_original.class_names\n",
        "test = test_original.map(lambda x, y: (normalization_layer(x), y))\n",
        "print(\"Mapare clase:\", class_indices)"
      ]
    },
    {
      "cell_type": "code",
      "execution_count": 84,
      "metadata": {
        "colab": {
          "base_uri": "https://localhost:8080/"
        },
        "id": "1e0huJE7XmeO",
        "outputId": "14c56127-e263-46a2-89f6-8dbf05cde9e7"
      },
      "outputs": [
        {
          "name": "stdout",
          "output_type": "stream",
          "text": [
            "\u001b[1m30/30\u001b[0m \u001b[32m━━━━━━━━━━━━━━━━━━━━\u001b[0m\u001b[37m\u001b[0m \u001b[1m2s\u001b[0m 57ms/step\n",
            "Mapare clase: ['Daisy', 'Lavender', 'Lily', 'Rose', 'Sunflower']\n"
          ]
        }
      ],
      "source": [
        "y_pred = model.predict(test)\n",
        "\n",
        "y_pred_classes = np.argmax(y_pred, axis=1)\n",
        "\n",
        "y_true = []\n",
        "for images, labels in test.as_numpy_iterator():\n",
        "    y_true.extend(labels)\n",
        "y_true = np.array(y_true)\n",
        "\n",
        "print(\"Mapare clase:\", class_indices)"
      ]
    },
    {
      "cell_type": "code",
      "execution_count": 86,
      "metadata": {
        "colab": {
          "base_uri": "https://localhost:8080/",
          "height": 487
        },
        "id": "EmVHwEiDXd9E",
        "outputId": "e1dc575b-dd45-4caa-e000-146b7f8e6d8d"
      },
      "outputs": [
        {
          "data": {
            "image/png": "[encoded data removed]",
            "text/plain": [
              "<Figure size 600x500 with 2 Axes>"
            ]
          },
          "metadata": {},
          "output_type": "display_data"
        }
      ],
      "source": [
        "import seaborn as sns\n",
        "import matplotlib.pyplot as plt\n",
        "from sklearn.metrics import confusion_matrix\n",
        "\n",
        "cm = confusion_matrix(y_true, y_pred_classes)\n",
        "\n",
        "plt.figure(figsize=(6,5))\n",
        "sns.heatmap(cm, annot=True, fmt=\"d\", cmap=\"Blues\", xticklabels=class_indices, yticklabels=class_indices)\n",
        "plt.xlabel('Predicted')\n",
        "plt.ylabel('Actual')\n",
        "plt.title('Confusion Matrix')\n",
        "plt.show()"
      ]
    }
  ],
  "metadata": {
    "accelerator": "GPU",
    "colab": {
      "gpuType": "T4",
      "provenance": []
    },
    "kernelspec": {
      "display_name": "Python 3",
      "name": "python3"
    },
    "language_info": {
      "name": "python"
    }
  },
  "nbformat": 4,
  "nbformat_minor": 0
}
