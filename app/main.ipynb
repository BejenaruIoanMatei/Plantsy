{
 "cells": [
  {
   "cell_type": "code",
   "execution_count": 1,
   "metadata": {},
   "outputs": [],
   "source": [
    "import requests\n",
    "from bs4 import BeautifulSoup"
   ]
  },
  {
   "cell_type": "code",
   "execution_count": null,
   "metadata": {},
   "outputs": [],
   "source": [
    "import requests\n",
    "\n",
    "response = requests.get('https://www.hostinger.com/tutorials/how-to-run-a-python-script-in-linux')\n",
    "\n",
    "print(response.text)"
   ]
  },
  {
   "cell_type": "code",
   "execution_count": 3,
   "metadata": {},
   "outputs": [],
   "source": [
    "import os"
   ]
  },
  {
   "cell_type": "code",
   "execution_count": 4,
   "metadata": {},
   "outputs": [],
   "source": [
    "output_dir = 'images/lavender'\n",
    "os.makedirs(output_dir, exist_ok=True)"
   ]
  },
  {
   "cell_type": "code",
   "execution_count": 7,
   "metadata": {},
   "outputs": [
    {
     "name": "stdout",
     "output_type": "stream",
     "text": [
      "Failed to fetch the page: 403\n"
     ]
    }
   ],
   "source": [
    "URL = \"https://www.pexels.com/search/lavender%20flower/\"\n",
    "\n",
    "HEADERS = {\n",
    "    'User-Agent': 'Mozilla/5.0 (Windows NT 10.0; Win64; x64) AppleWebKit/537.36 (KHTML, like Gecko) Chrome/120.0.0.0 Safari/537.36'\n",
    "}\n",
    "\n",
    "with requests.Session() as session:\n",
    "    response = session.get(URL, headers=HEADERS)\n",
    "    if response.status_code != 200:\n",
    "        print(f\"Failed to fetch the page: {response.status_code}\")\n",
    "    else:\n",
    "        soup = BeautifulSoup(response.content, 'html.parser')\n",
    "\n",
    "        images = soup.find_all('img')\n",
    "\n",
    "        if not images:\n",
    "            print(\"No images found — site might be blocking scrapers.\")\n",
    "\n",
    "        for i, img in enumerate(images):\n",
    "            src = img.get('src')\n",
    "            if src and src.startswith('http'):\n",
    "                try:\n",
    "                    img_data = session.get(src).content\n",
    "                    with open(f'{output_dir}/lavender_{i}.jpg', 'wb') as f:\n",
    "                        f.write(img_data)\n",
    "                    print(f\"Saved: lavender_{i}.jpg\")\n",
    "                except Exception as e:\n",
    "                    print(f\"Failed to download {src}: {e}\")"
   ]
  }
 ],
 "metadata": {
  "kernelspec": {
   "display_name": "venv",
   "language": "python",
   "name": "python3"
  },
  "language_info": {
   "codemirror_mode": {
    "name": "ipython",
    "version": 3
   },
   "file_extension": ".py",
   "mimetype": "text/x-python",
   "name": "python",
   "nbconvert_exporter": "python",
   "pygments_lexer": "ipython3",
   "version": "3.12.6"
  },
  "orig_nbformat": 4
 },
 "nbformat": 4,
 "nbformat_minor": 2
}
